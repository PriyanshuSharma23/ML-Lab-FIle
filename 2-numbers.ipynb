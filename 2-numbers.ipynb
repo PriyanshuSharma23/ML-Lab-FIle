{
 "cells": [
  {
   "cell_type": "markdown",
   "metadata": {},
   "source": [
    "# Experiment 2\n",
    "\n",
    "Write a Program in Python to convert:\n",
    "- Binary to Decimal\n",
    "- Decimal to Binary\n",
    "- Decimal to Hexadecimal\n",
    "- Hexadecimal to Decimal"
   ]
  },
  {
   "cell_type": "code",
   "execution_count": 5,
   "metadata": {},
   "outputs": [
    {
     "name": "stdout",
     "output_type": "stream",
     "text": [
      "Binary to Decimal: 13\n"
     ]
    }
   ],
   "source": [
    "def binary_to_decimal(binary_num):\n",
    "    decimal_num = 0\n",
    "    binary_num = str(binary_num)[::-1]  # Reverse the binary number\n",
    "    for i in range(len(binary_num)):\n",
    "        if binary_num[i] == '1':\n",
    "            decimal_num += 2 ** i\n",
    "    return decimal_num\n",
    "\n",
    "binary_num = \"1101\"\n",
    "print(\"Binary to Decimal:\", binary_to_decimal(binary_num))"
   ]
  },
  {
   "cell_type": "code",
   "execution_count": 6,
   "metadata": {},
   "outputs": [
    {
     "name": "stdout",
     "output_type": "stream",
     "text": [
      "Decimal to Binary: 1101\n"
     ]
    }
   ],
   "source": [
    "def decimal_to_binary(decimal_num):\n",
    "    binary_num = \"\"\n",
    "    while decimal_num > 0:\n",
    "        binary_num = str(decimal_num % 2) + binary_num\n",
    "        decimal_num = decimal_num // 2\n",
    "    return binary_num\n",
    "\n",
    "decimal_num = 13\n",
    "print(\"Decimal to Binary:\", decimal_to_binary(decimal_num))"
   ]
  },
  {
   "cell_type": "code",
   "execution_count": 7,
   "metadata": {},
   "outputs": [
    {
     "name": "stdout",
     "output_type": "stream",
     "text": [
      "Decimal to Hexadecimal: D\n"
     ]
    }
   ],
   "source": [
    "def decimal_to_hexadecimal(decimal_num):\n",
    "    hexadecimal_num = \"\"\n",
    "    hex_chars = \"0123456789ABCDEF\"\n",
    "    while decimal_num > 0:\n",
    "        remainder = decimal_num % 16\n",
    "        hexadecimal_num = hex_chars[remainder] + hexadecimal_num\n",
    "        decimal_num = decimal_num // 16\n",
    "    return hexadecimal_num\n",
    "\n",
    "decimal_num = 13\n",
    "print(\"Decimal to Hexadecimal:\", decimal_to_hexadecimal(decimal_num))"
   ]
  },
  {
   "cell_type": "code",
   "execution_count": 8,
   "metadata": {},
   "outputs": [
    {
     "name": "stdout",
     "output_type": "stream",
     "text": [
      "Hexadecimal to Decimal: 13\n"
     ]
    }
   ],
   "source": [
    "def hexadecimal_to_decimal(hexadecimal_num):\n",
    "    decimal_num = 0\n",
    "    hex_chars = \"0123456789ABCDEF\"\n",
    "    hexadecimal_num = hexadecimal_num[::-1].upper()  # Reverse and convert to uppercase\n",
    "    for i in range(len(hexadecimal_num)):\n",
    "        decimal_num += hex_chars.index(hexadecimal_num[i]) * (16 ** i)\n",
    "    return decimal_num\n",
    "\n",
    "hexadecimal_num = \"D\"\n",
    "print(\"Hexadecimal to Decimal:\", hexadecimal_to_decimal(hexadecimal_num))"
   ]
  }
 ],
 "metadata": {
  "kernelspec": {
   "display_name": "perception_backend",
   "language": "python",
   "name": "python3"
  },
  "language_info": {
   "codemirror_mode": {
    "name": "ipython",
    "version": 3
   },
   "file_extension": ".py",
   "mimetype": "text/x-python",
   "name": "python",
   "nbconvert_exporter": "python",
   "pygments_lexer": "ipython3",
   "version": "3.9.16"
  },
  "orig_nbformat": 4
 },
 "nbformat": 4,
 "nbformat_minor": 2
}
