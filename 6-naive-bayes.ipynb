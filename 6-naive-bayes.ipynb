{
 "cells": [
  {
   "cell_type": "markdown",
   "metadata": {},
   "source": [
    "# Experiment 6\n",
    "**Aim**: Implement Naïve Bayes theorem to classify the English text."
   ]
  },
  {
   "cell_type": "code",
   "execution_count": 1,
   "metadata": {},
   "outputs": [],
   "source": [
    "import numpy as np\n",
    "import pandas as pd"
   ]
  },
  {
   "cell_type": "markdown",
   "metadata": {},
   "source": [
    "# Defining the dataset"
   ]
  },
  {
   "cell_type": "code",
   "execution_count": 3,
   "metadata": {},
   "outputs": [],
   "source": [
    "data = {\n",
    "    \"corpus\": [\n",
    "        \"I love this movie, it's so entertaining!\",\n",
    "        \"The weather is terrible today.\",\n",
    "        \"This book is amazing, highly recommended.\",\n",
    "        \"I don't like the taste of this dish.\",\n",
    "        \"The performance was outstanding, I was truly impressed.\",\n",
    "        \"I hate waiting in long lines.\",\n",
    "        \"The food at the restaurant was delicious.\",\n",
    "        \"The service was very slow and disappointing.\",\n",
    "        \"The concert was fantastic, I had a great time.\",\n",
    "        \"I'm not a fan of the new design.\",\n",
    "        \"The team played poorly, it was a disappointing match.\",\n",
    "        \"I adore the artwork in this museum.\",\n",
    "        \"The customer support was helpful and friendly.\",\n",
    "        \"I can't stand the noise in this neighborhood.\",\n",
    "        \"The movie was boring, I fell asleep halfway through.\",\n",
    "        \"The software is user-friendly and efficient.\",\n",
    "        \"The traffic was unbearable, I was stuck for hours.\",\n",
    "        \"This product is a waste of money.\",\n",
    "        \"The atmosphere in the cafe was cozy and inviting.\",\n",
    "        \"I'm impressed with the quality of this product.\",\n",
    "        \"The hotel room was dirty and smelled bad.\",\n",
    "        \"I enjoy spending time with my friends.\",\n",
    "        \"The play was thought-provoking and well-executed.\",\n",
    "        \"I couldn't stop laughing, the comedy show was hilarious.\",\n",
    "        \"The experience was underwhelming, I expected more.\",\n",
    "    ],\n",
    "    \"label\": [1, 0, 1, 0, 1, 0, 1, 0, 1, 0, 0, 1, 1, 0, 0, 1, 0, 0, 1, 1, 0, 1, 1, 0, 0]\n",
    "}\n",
    "df = pd.DataFrame(data)"
   ]
  },
  {
   "cell_type": "markdown",
   "metadata": {},
   "source": [
    "# Separating data by class labels"
   ]
  },
  {
   "cell_type": "code",
   "execution_count": 4,
   "metadata": {},
   "outputs": [
    {
     "name": "stdout",
     "output_type": "stream",
     "text": [
      "No. of Positive:  12\n",
      "No. of Negative:  13\n"
     ]
    }
   ],
   "source": [
    "positive = df[df['label'] == 1]\n",
    "negative = df[df['label'] == 0]\n",
    "\n",
    "print(\"No. of Positive: \", len(positive))\n",
    "print(\"No. of Negative: \", len(negative))"
   ]
  },
  {
   "cell_type": "markdown",
   "metadata": {},
   "source": [
    "\n",
    "\n",
    "\n",
    "## Calculating `Prior` probabilities"
   ]
  },
  {
   "cell_type": "code",
   "execution_count": 7,
   "metadata": {},
   "outputs": [
    {
     "name": "stdout",
     "output_type": "stream",
     "text": [
      "Prior probability of Positive samples:  0.48\n",
      "Prior probability of Negative samples:  0.52\n"
     ]
    }
   ],
   "source": [
    "total = len(df)\n",
    "prior_positive = len(positive) / total\n",
    "prior_negative = len(negative) / total\n",
    "\n",
    "print(\"Prior probability of Positive samples: \", prior_positive)\n",
    "print(\"Prior probability of Negative samples: \", prior_negative)"
   ]
  },
  {
   "cell_type": "markdown",
   "metadata": {},
   "source": [
    "## Creating Vocabulary"
   ]
  },
  {
   "cell_type": "code",
   "execution_count": 8,
   "metadata": {},
   "outputs": [
    {
     "name": "stdout",
     "output_type": "stream",
     "text": [
      "Vocabulary: \n",
      " ['disappointing', 'like', \"can't\", 'my', 'with', 'play', 'fan', 'movie,', 'product', 'inviting.', 'match.', 'slow', 'comedy', 'food', 'lines.', 'dirty', 'room', 'noise', 'stop', 'was', \"don't\", 'friends.', 'artwork', 'smelled', 'friendly.', 'for', 'hilarious.', 'laughing,', 'through.', 'fantastic,', 'adore', 'and', 'amazing,', 'quality', 'poorly,', 'show', 'of', 'at', 'played', 'recommended.', 'new', 'service', 'atmosphere', 'expected', 'neighborhood.', 'fell', 'This', 'efficient.', 'great', 'today.', 'cozy', 'dish.', 'concert', 'is', 'stuck', 'taste', 'product.', 'The', 'not', 'well-executed.', 'underwhelming,', 'cafe', 'stand', 'weather', 'design.', 'this', 'time', 'museum.', 'unbearable,', 'halfway', 'had', 'a', 'outstanding,', 'entertaining!', 'so', \"couldn't\", 'impressed', 'thought-provoking', 'hours.', 'long', 'team', 'delicious.', 'waste', 'spending', 'waiting', 'highly', 'in', 'bad.', 'restaurant', 'time.', 'movie', 'support', 'user-friendly', 'impressed.', 'terrible', 'asleep', 'it', 'customer', 'software', 'experience', 'truly', \"it's\", 'book', 'very', 'performance', 'hate', 'boring,', 'helpful', 'the', 'traffic', 'enjoy', 'love', 'hotel', 'I', \"I'm\", 'more.', 'money.', 'disappointing.']\n"
     ]
    }
   ],
   "source": [
    "positive_text = ' '.join(positive['corpus']).split()\n",
    "negative_text = ' '.join(negative['corpus']).split()\n",
    "\n",
    "vocabulary = list(set(negative_text + positive_text))\n",
    "print('Vocabulary: \\n', vocabulary)"
   ]
  },
  {
   "cell_type": "markdown",
   "metadata": {},
   "source": [
    "### Calculating Word Frequencies"
   ]
  },
  {
   "cell_type": "code",
   "execution_count": 12,
   "metadata": {},
   "outputs": [
    {
     "data": {
      "text/html": [
       "<div>\n",
       "<style scoped>\n",
       "    .dataframe tbody tr th:only-of-type {\n",
       "        vertical-align: middle;\n",
       "    }\n",
       "\n",
       "    .dataframe tbody tr th {\n",
       "        vertical-align: top;\n",
       "    }\n",
       "\n",
       "    .dataframe thead th {\n",
       "        text-align: right;\n",
       "    }\n",
       "</style>\n",
       "<table border=\"1\" class=\"dataframe\">\n",
       "  <thead>\n",
       "    <tr style=\"text-align: right;\">\n",
       "      <th></th>\n",
       "      <th>Positive Word Frequency</th>\n",
       "      <th>Negative Word Frequency</th>\n",
       "    </tr>\n",
       "  </thead>\n",
       "  <tbody>\n",
       "    <tr>\n",
       "      <th>disappointing</th>\n",
       "      <td>0</td>\n",
       "      <td>1</td>\n",
       "    </tr>\n",
       "    <tr>\n",
       "      <th>like</th>\n",
       "      <td>0</td>\n",
       "      <td>1</td>\n",
       "    </tr>\n",
       "    <tr>\n",
       "      <th>can't</th>\n",
       "      <td>0</td>\n",
       "      <td>1</td>\n",
       "    </tr>\n",
       "    <tr>\n",
       "      <th>my</th>\n",
       "      <td>1</td>\n",
       "      <td>0</td>\n",
       "    </tr>\n",
       "    <tr>\n",
       "      <th>with</th>\n",
       "      <td>2</td>\n",
       "      <td>0</td>\n",
       "    </tr>\n",
       "    <tr>\n",
       "      <th>play</th>\n",
       "      <td>1</td>\n",
       "      <td>0</td>\n",
       "    </tr>\n",
       "    <tr>\n",
       "      <th>fan</th>\n",
       "      <td>0</td>\n",
       "      <td>1</td>\n",
       "    </tr>\n",
       "    <tr>\n",
       "      <th>movie,</th>\n",
       "      <td>1</td>\n",
       "      <td>0</td>\n",
       "    </tr>\n",
       "    <tr>\n",
       "      <th>product</th>\n",
       "      <td>0</td>\n",
       "      <td>1</td>\n",
       "    </tr>\n",
       "    <tr>\n",
       "      <th>inviting.</th>\n",
       "      <td>1</td>\n",
       "      <td>0</td>\n",
       "    </tr>\n",
       "  </tbody>\n",
       "</table>\n",
       "</div>"
      ],
      "text/plain": [
       "               Positive Word Frequency  Negative Word Frequency\n",
       "disappointing                        0                        1\n",
       "like                                 0                        1\n",
       "can't                                0                        1\n",
       "my                                   1                        0\n",
       "with                                 2                        0\n",
       "play                                 1                        0\n",
       "fan                                  0                        1\n",
       "movie,                               1                        0\n",
       "product                              0                        1\n",
       "inviting.                            1                        0"
      ]
     },
     "execution_count": 12,
     "metadata": {},
     "output_type": "execute_result"
    }
   ],
   "source": [
    "positive_word_freq = { word: positive_text.count(word) for word in vocabulary }\n",
    "negative_word_freq = { word: negative_text.count(word) for word in vocabulary }\n",
    "\n",
    "word_data = {\n",
    "    'Positive Word Frequency': positive_word_freq,\n",
    "    'Negative Word Frequency': negative_word_freq,\n",
    "}\n",
    "word_df = pd.DataFrame(word_data)\n",
    "word_df.head(10)"
   ]
  },
  {
   "cell_type": "markdown",
   "metadata": {},
   "source": [
    "## Classifying New Text"
   ]
  },
  {
   "cell_type": "code",
   "execution_count": 15,
   "metadata": {},
   "outputs": [],
   "source": [
    "test_data = {\n",
    "    \"corpus\": [\n",
    "        \"This restaurant serves delicious food and has excellent service.\",\n",
    "        \"I'm really disappointed with the customer service I received.\",\n",
    "        \"The weather is perfect for outdoor activities today.\",\n",
    "        \"I can't believe how fast and efficient the delivery service was.\",\n",
    "        \"The movie was a complete waste of time and money, I regret watching it.\"\n",
    "    ],\n",
    "    \"label\": [1, 0, 1, 1, 0]\n",
    "}\n",
    "test_df = pd.DataFrame(test_data)"
   ]
  },
  {
   "cell_type": "code",
   "execution_count": 25,
   "metadata": {},
   "outputs": [],
   "source": [
    "def predict(string, positive_word_freq, negative_word_freq, prior_positive, prior_negative, smoothing_factor = 1): # Using Laplace Smoothing for Likelihood Calculation\n",
    "   \n",
    "    new_text_words = string.split()\n",
    "    likelihood_positive = 1\n",
    "    for word in new_text_words:\n",
    "        likelihood_positive *= (positive_word_freq.get(word, 0) + smoothing_factor) / (len(positive_text) + smoothing_factor * len(vocabulary))\n",
    "\n",
    "    likelihood_negative = 1\n",
    "    for word in new_text_words:\n",
    "        likelihood_negative *= (negative_word_freq.get(word, 0) + smoothing_factor) / (len(negative_text) + smoothing_factor * len(vocabulary))\n",
    "\n",
    "    # Apply Naive Bayes formula\n",
    "    posterior_positive = prior_positive * likelihood_positive\n",
    "    posterior_negative = prior_negative * likelihood_negative\n",
    "\n",
    "    # Classify based on the higher posterior probability\n",
    "    predicted_class = 1 if posterior_positive > posterior_negative else 0\n",
    "    return predicted_class\n"
   ]
  },
  {
   "cell_type": "markdown",
   "metadata": {},
   "source": [
    "### Predicting Values\n"
   ]
  },
  {
   "cell_type": "code",
   "execution_count": 27,
   "metadata": {},
   "outputs": [],
   "source": [
    "test_df['Predicted Label'] = [\n",
    "    predict(\n",
    "        string, positive_word_freq, negative_word_freq, prior_positive, prior_negative\n",
    "    ) for string in test_df['corpus']\n",
    "]"
   ]
  },
  {
   "cell_type": "code",
   "execution_count": 28,
   "metadata": {},
   "outputs": [
    {
     "data": {
      "text/html": [
       "<div>\n",
       "<style scoped>\n",
       "    .dataframe tbody tr th:only-of-type {\n",
       "        vertical-align: middle;\n",
       "    }\n",
       "\n",
       "    .dataframe tbody tr th {\n",
       "        vertical-align: top;\n",
       "    }\n",
       "\n",
       "    .dataframe thead th {\n",
       "        text-align: right;\n",
       "    }\n",
       "</style>\n",
       "<table border=\"1\" class=\"dataframe\">\n",
       "  <thead>\n",
       "    <tr style=\"text-align: right;\">\n",
       "      <th></th>\n",
       "      <th>corpus</th>\n",
       "      <th>label</th>\n",
       "      <th>Predicted Label</th>\n",
       "    </tr>\n",
       "  </thead>\n",
       "  <tbody>\n",
       "    <tr>\n",
       "      <th>0</th>\n",
       "      <td>This restaurant serves delicious food and has ...</td>\n",
       "      <td>1</td>\n",
       "      <td>1</td>\n",
       "    </tr>\n",
       "    <tr>\n",
       "      <th>1</th>\n",
       "      <td>I'm really disappointed with the customer serv...</td>\n",
       "      <td>0</td>\n",
       "      <td>1</td>\n",
       "    </tr>\n",
       "    <tr>\n",
       "      <th>2</th>\n",
       "      <td>The weather is perfect for outdoor activities ...</td>\n",
       "      <td>1</td>\n",
       "      <td>0</td>\n",
       "    </tr>\n",
       "    <tr>\n",
       "      <th>3</th>\n",
       "      <td>I can't believe how fast and efficient the del...</td>\n",
       "      <td>1</td>\n",
       "      <td>0</td>\n",
       "    </tr>\n",
       "    <tr>\n",
       "      <th>4</th>\n",
       "      <td>The movie was a complete waste of time and mon...</td>\n",
       "      <td>0</td>\n",
       "      <td>0</td>\n",
       "    </tr>\n",
       "  </tbody>\n",
       "</table>\n",
       "</div>"
      ],
      "text/plain": [
       "                                              corpus  label  Predicted Label\n",
       "0  This restaurant serves delicious food and has ...      1                1\n",
       "1  I'm really disappointed with the customer serv...      0                1\n",
       "2  The weather is perfect for outdoor activities ...      1                0\n",
       "3  I can't believe how fast and efficient the del...      1                0\n",
       "4  The movie was a complete waste of time and mon...      0                0"
      ]
     },
     "execution_count": 28,
     "metadata": {},
     "output_type": "execute_result"
    }
   ],
   "source": [
    "test_df.head()"
   ]
  },
  {
   "cell_type": "code",
   "execution_count": null,
   "metadata": {},
   "outputs": [],
   "source": []
  }
 ],
 "metadata": {
  "kernelspec": {
   "display_name": "perception_backend",
   "language": "python",
   "name": "python3"
  },
  "language_info": {
   "codemirror_mode": {
    "name": "ipython",
    "version": 3
   },
   "file_extension": ".py",
   "mimetype": "text/x-python",
   "name": "python",
   "nbconvert_exporter": "python",
   "pygments_lexer": "ipython3",
   "version": "3.9.16"
  },
  "orig_nbformat": 4
 },
 "nbformat": 4,
 "nbformat_minor": 2
}
