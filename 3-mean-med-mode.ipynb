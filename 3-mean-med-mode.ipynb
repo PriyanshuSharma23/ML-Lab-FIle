{
 "cells": [
  {
   "cell_type": "markdown",
   "metadata": {},
   "source": [
    "# Experiment 3\n",
    "**Aim**: \n",
    "Write a program to compute the:\n",
    "- Mean\n",
    "- Mode\n",
    "- Median\n",
    "- Standard Deviation"
   ]
  },
  {
   "cell_type": "markdown",
   "metadata": {},
   "source": [
    "## Creating Dataset"
   ]
  },
  {
   "cell_type": "code",
   "execution_count": 3,
   "metadata": {},
   "outputs": [
    {
     "name": "stdout",
     "output_type": "stream",
     "text": [
      "The data is: [19, 59, 59, 99, 23, 91, 51, 94, 45, 56, 65, 15, 69, 16, 11, 95, 59, 34, 7, 85, 83, 27, 43, 30, 40, 99, 27, 23, 19, 25, 45, 48, 81, 53, 27, 52, 60, 72, 36, 49, 21, 84, 82, 16, 24, 1, 78, 51, 19, 100]\n"
     ]
    }
   ],
   "source": [
    "import random\n",
    "random.seed(100)\n",
    "data = [random.randint(1, 100) for _ in range(50)]\n",
    "print(\"The data is:\", data)"
   ]
  },
  {
   "cell_type": "markdown",
   "metadata": {},
   "source": [
    "## Calculating Mean\n",
    "The mean (average) of a set of numbers is calculated by adding up all the numbers in the set and then dividing the sum by the count of numbers."
   ]
  },
  {
   "cell_type": "code",
   "execution_count": 4,
   "metadata": {},
   "outputs": [
    {
     "name": "stdout",
     "output_type": "stream",
     "text": [
      "Mean of the data is 49.34\n"
     ]
    }
   ],
   "source": [
    "s = sum(data)\n",
    "n = len(data)\n",
    "\n",
    "mean = s / n\n",
    "print(\"Mean of the data is\", mean)"
   ]
  },
  {
   "cell_type": "markdown",
   "metadata": {},
   "source": [
    "## Calculating Median\n",
    "The median is the middle value of a dataset that has been arranged in numerical order. If the dataset has an odd number of observations, the median is the middle number. If the dataset has an even number of observations, the median is the average of the middle two numbers."
   ]
  },
  {
   "cell_type": "code",
   "execution_count": 6,
   "metadata": {},
   "outputs": [
    {
     "name": "stdout",
     "output_type": "stream",
     "text": [
      "Median of the data is 48.5\n"
     ]
    }
   ],
   "source": [
    "# sorted data\n",
    "sorted_data = sorted(data)\n",
    "n = len(data)\n",
    "\n",
    "if n % 2 == 0:\n",
    "    median = (sorted_data[n // 2 - 1] + sorted_data[n // 2]) / 2\n",
    "else:\n",
    "    median = sorted_data[n // 2]\n",
    "\n",
    "print(\"Median of the data is\", median)"
   ]
  },
  {
   "cell_type": "markdown",
   "metadata": {},
   "source": [
    "## Calculating Mode\n",
    "The mode is the number that appears most frequently in a dataset. A dataset might have one mode, more than one mode, or no mode at all."
   ]
  },
  {
   "cell_type": "code",
   "execution_count": 7,
   "metadata": {},
   "outputs": [
    {
     "name": "stdout",
     "output_type": "stream",
     "text": [
      "Mode of the data is [19, 59, 27]\n"
     ]
    }
   ],
   "source": [
    "count_dict = {}\n",
    "for num in data:\n",
    "    count_dict[num] = count_dict.get(num, 0) + 1\n",
    "\n",
    "max_count = max(count_dict.values())\n",
    "mode = [num for num, count in count_dict.items() if count == max_count]\n",
    "\n",
    "print(\"Mode of the data is\", mode)"
   ]
  },
  {
   "cell_type": "markdown",
   "metadata": {},
   "source": [
    "## Calculating Standard Deviation\n",
    "Standard deviation measures the dispersion or spread of a set of values. A low standard deviation means that the values tend to be close to the mean, whereas a high standard deviation means that the values are spread out over a wider range."
   ]
  },
  {
   "cell_type": "code",
   "execution_count": 8,
   "metadata": {},
   "outputs": [
    {
     "name": "stdout",
     "output_type": "stream",
     "text": [
      "Standard Deviation of the data is 27.94967620563787\n"
     ]
    }
   ],
   "source": [
    "variance = sum((x - mean) ** 2 for x in data) / len(data)\n",
    "std_deviation = variance ** 0.5\n",
    "\n",
    "print(\"Standard Deviation of the data is\", std_deviation)"
   ]
  },
  {
   "cell_type": "code",
   "execution_count": null,
   "metadata": {},
   "outputs": [],
   "source": []
  }
 ],
 "metadata": {
  "kernelspec": {
   "display_name": "perception_backend",
   "language": "python",
   "name": "python3"
  },
  "language_info": {
   "codemirror_mode": {
    "name": "ipython",
    "version": 3
   },
   "file_extension": ".py",
   "mimetype": "text/x-python",
   "name": "python",
   "nbconvert_exporter": "python",
   "pygments_lexer": "ipython3",
   "version": "3.9.16"
  },
  "orig_nbformat": 4
 },
 "nbformat": 4,
 "nbformat_minor": 2
}
